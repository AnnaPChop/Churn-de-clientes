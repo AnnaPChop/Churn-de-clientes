{
 "cells": [
  {
   "cell_type": "markdown",
   "id": "f8e1c9cd",
   "metadata": {},
   "source": [
    "# **Análisis de Churn de Clientes**\n",
    "\n",
    "Este proyecto aborda el desafío de identificar los factores que influyen en la cancelación de servicios por parte de los clientes. Utiliza datos reales extraídos desde una API en formato JSON, aplicando técnicas de ETL para su transformación y análisis. A través de visualizaciones estratégicas y un análisis exploratorio profundo, se generan insights clave para mejorar la retención de clientes."
   ]
  },
  {
   "cell_type": "markdown",
   "id": "df306c09",
   "metadata": {},
   "source": [
    "## 1. Configuración del Entorno\n",
    "Primero, importamos las librerías necesarias para el análisis y la visualización de datos."
   ]
  },
  {
   "cell_type": "code",
   "execution_count": 1,
   "id": "66c35ba6",
   "metadata": {},
   "outputs": [],
   "source": [
    "import pandas as pd\n",
    "import numpy as np\n",
    "import matplotlib.pyplot as plt\n",
    "import seaborn as sns\n",
    "import json"
   ]
  },
  {
   "cell_type": "markdown",
   "id": "ecc3beab",
   "metadata": {},
   "source": [
    "## 2. Carga y Transformación Inicial de Datos\n",
    "En este paso, cargamos los datos desde el archivo JSON y los transformamos en un DataFrame de Pandas. La estructura del JSON es anidada, por lo que utilizaremos pd.json_normalize para aplanarla y facilitar su manipulación."
   ]
  },
  {
   "cell_type": "code",
   "execution_count": 5,
   "id": "26551bd1",
   "metadata": {},
   "outputs": [
    {
     "name": "stdout",
     "output_type": "stream",
     "text": [
      "Datos cargados y transformados con éxito.\n"
     ]
    }
   ],
   "source": [
    "# Cargar el archivo JSON\n",
    "file_path = 'data/TelecomX_Data.json'\n",
    "with open(file_path, 'r') as f:\n",
    "    data = json.load(f)\n",
    "\n",
    "# Verificar la estructura del JSON para asegurar el aplanamiento correcto\n",
    "if isinstance(data, dict) and 'customers' in data:\n",
    "    customers = data['customers']\n",
    "else:\n",
    "    customers = data\n",
    "\n",
    "# Aplanar todos los campos anidados en un solo DataFrame\n",
    "df = pd.json_normalize(customers, sep='.')\n",
    "\n",
    "# Renombrar columnas para mayor claridad\n",
    "df = df.rename(columns={\n",
    "    'customerID': 'customerID',\n",
    "    'Churn': 'Churn',\n",
    "    'customer.gender': 'Gender',\n",
    "    'customer.SeniorCitizen': 'SeniorCitizen',\n",
    "    'customer.Partner': 'Partner',\n",
    "    'customer.Dependents': 'Dependents',\n",
    "    'customer.tenure': 'Tenure',\n",
    "    'phone.PhoneService': 'PhoneService',\n",
    "    'phone.MultipleLines': 'MultipleLines',\n",
    "    'internet.InternetService': 'InternetService',\n",
    "    'internet.OnlineSecurity': 'OnlineSecurity',\n",
    "    'internet.OnlineBackup': 'OnlineBackup',\n",
    "    'internet.DeviceProtection': 'DeviceProtection',\n",
    "    'internet.TechSupport': 'TechSupport',\n",
    "    'internet.StreamingTV': 'StreamingTV',\n",
    "    'internet.StreamingMovies': 'StreamingMovies',\n",
    "    'account.Contract': 'Contract',\n",
    "    'account.PaperlessBilling': 'PaperlessBilling',\n",
    "    'account.PaymentMethod': 'PaymentMethod',\n",
    "    'account.Charges.Monthly': 'MonthlyCharges',\n",
    "    'account.Charges.Total': 'TotalCharges'\n",
    "})\n",
    "\n",
    "print(\"Datos cargados y transformados con éxito.\")"
   ]
  },
  {
   "cell_type": "markdown",
   "id": "bcfd84de",
   "metadata": {},
   "source": [
    "## 3. Exploración Inicial y Verificación de Datos\n",
    "Ahora, exploraremos el DataFrame para entender su estructura, los tipos de datos y si existen problemas evidentes como valores nulos o formatos incorrectos."
   ]
  },
  {
   "cell_type": "code",
   "execution_count": 6,
   "id": "1b524fea",
   "metadata": {},
   "outputs": [
    {
     "name": "stdout",
     "output_type": "stream",
     "text": [
      "Vista previa de los datos:\n",
      "   customerID Churn  Gender  SeniorCitizen Partner Dependents  Tenure  \\\n",
      "0  0002-ORFBO    No  Female              0     Yes        Yes       9   \n",
      "1  0003-MKNFE    No    Male              0      No         No       9   \n",
      "2  0004-TLHLJ   Yes    Male              0      No         No       4   \n",
      "3  0011-IGKFF   Yes    Male              1     Yes         No      13   \n",
      "4  0013-EXCHZ   Yes  Female              1     Yes         No       3   \n",
      "\n",
      "  PhoneService MultipleLines InternetService  ... OnlineBackup  \\\n",
      "0          Yes            No             DSL  ...          Yes   \n",
      "1          Yes           Yes             DSL  ...           No   \n",
      "2          Yes            No     Fiber optic  ...           No   \n",
      "3          Yes            No     Fiber optic  ...          Yes   \n",
      "4          Yes            No     Fiber optic  ...           No   \n",
      "\n",
      "  DeviceProtection TechSupport StreamingTV StreamingMovies        Contract  \\\n",
      "0               No         Yes         Yes              No        One year   \n",
      "1               No          No          No             Yes  Month-to-month   \n",
      "2              Yes          No          No              No  Month-to-month   \n",
      "3              Yes          No         Yes             Yes  Month-to-month   \n",
      "4               No         Yes         Yes              No  Month-to-month   \n",
      "\n",
      "  PaperlessBilling     PaymentMethod MonthlyCharges  TotalCharges  \n",
      "0              Yes      Mailed check           65.6         593.3  \n",
      "1               No      Mailed check           59.9         542.4  \n",
      "2              Yes  Electronic check           73.9        280.85  \n",
      "3              Yes  Electronic check           98.0       1237.85  \n",
      "4              Yes      Mailed check           83.9         267.4  \n",
      "\n",
      "[5 rows x 21 columns]\n",
      "\n",
      "Información general del DataFrame:\n",
      "   customerID Churn  Gender  SeniorCitizen Partner Dependents  Tenure  \\\n",
      "0  0002-ORFBO    No  Female              0     Yes        Yes       9   \n",
      "1  0003-MKNFE    No    Male              0      No         No       9   \n",
      "2  0004-TLHLJ   Yes    Male              0      No         No       4   \n",
      "3  0011-IGKFF   Yes    Male              1     Yes         No      13   \n",
      "4  0013-EXCHZ   Yes  Female              1     Yes         No       3   \n",
      "\n",
      "  PhoneService MultipleLines InternetService  ... OnlineBackup  \\\n",
      "0          Yes            No             DSL  ...          Yes   \n",
      "1          Yes           Yes             DSL  ...           No   \n",
      "2          Yes            No     Fiber optic  ...           No   \n",
      "3          Yes            No     Fiber optic  ...          Yes   \n",
      "4          Yes            No     Fiber optic  ...           No   \n",
      "\n",
      "  DeviceProtection TechSupport StreamingTV StreamingMovies        Contract  \\\n",
      "0               No         Yes         Yes              No        One year   \n",
      "1               No          No          No             Yes  Month-to-month   \n",
      "2              Yes          No          No              No  Month-to-month   \n",
      "3              Yes          No         Yes             Yes  Month-to-month   \n",
      "4               No         Yes         Yes              No  Month-to-month   \n",
      "\n",
      "  PaperlessBilling     PaymentMethod MonthlyCharges  TotalCharges  \n",
      "0              Yes      Mailed check           65.6         593.3  \n",
      "1               No      Mailed check           59.9         542.4  \n",
      "2              Yes  Electronic check           73.9        280.85  \n",
      "3              Yes  Electronic check           98.0       1237.85  \n",
      "4              Yes      Mailed check           83.9         267.4  \n",
      "\n",
      "[5 rows x 21 columns]\n",
      "\n",
      "Información general del DataFrame:\n",
      "<class 'pandas.core.frame.DataFrame'>\n",
      "RangeIndex: 7267 entries, 0 to 7266\n",
      "Data columns (total 21 columns):\n",
      " #   Column            Non-Null Count  Dtype  \n",
      "---  ------            --------------  -----  \n",
      " 0   customerID        7267 non-null   object \n",
      " 1   Churn             7267 non-null   object \n",
      " 2   Gender            7267 non-null   object \n",
      " 3   SeniorCitizen     7267 non-null   int64  \n",
      " 4   Partner           7267 non-null   object \n",
      " 5   Dependents        7267 non-null   object \n",
      " 6   Tenure            7267 non-null   int64  \n",
      " 7   PhoneService      7267 non-null   object \n",
      " 8   MultipleLines     7267 non-null   object \n",
      " 9   InternetService   7267 non-null   object \n",
      " 10  OnlineSecurity    7267 non-null   object \n",
      " 11  OnlineBackup      7267 non-null   object \n",
      " 12  DeviceProtection  7267 non-null   object \n",
      " 13  TechSupport       7267 non-null   object \n",
      " 14  StreamingTV       7267 non-null   object \n",
      " 15  StreamingMovies   7267 non-null   object \n",
      " 16  Contract          7267 non-null   object \n",
      " 17  PaperlessBilling  7267 non-null   object \n",
      " 18  PaymentMethod     7267 non-null   object \n",
      " 19  MonthlyCharges    7267 non-null   float64\n",
      " 20  TotalCharges      7267 non-null   object \n",
      "dtypes: float64(1), int64(2), object(18)\n",
      "memory usage: 1.2+ MB\n",
      "\n",
      "Número de filas duplicadas: 0\n",
      "\n",
      "Valores nulos en 'TotalCharges' después de la conversión: 11\n",
      "\n",
      "Filas con 'TotalCharges' nulos:\n",
      "      Tenure  MonthlyCharges  TotalCharges\n",
      "975        0           56.05           NaN\n",
      "1775       0           20.00           NaN\n",
      "1955       0           61.90           NaN\n",
      "2075       0           19.70           NaN\n",
      "2232       0           20.25           NaN\n",
      "2308       0           25.35           NaN\n",
      "2930       0           73.35           NaN\n",
      "3134       0           25.75           NaN\n",
      "3203       0           52.55           NaN\n",
      "4169       0           80.85           NaN\n",
      "5599       0           19.85           NaN\n",
      "<class 'pandas.core.frame.DataFrame'>\n",
      "RangeIndex: 7267 entries, 0 to 7266\n",
      "Data columns (total 21 columns):\n",
      " #   Column            Non-Null Count  Dtype  \n",
      "---  ------            --------------  -----  \n",
      " 0   customerID        7267 non-null   object \n",
      " 1   Churn             7267 non-null   object \n",
      " 2   Gender            7267 non-null   object \n",
      " 3   SeniorCitizen     7267 non-null   int64  \n",
      " 4   Partner           7267 non-null   object \n",
      " 5   Dependents        7267 non-null   object \n",
      " 6   Tenure            7267 non-null   int64  \n",
      " 7   PhoneService      7267 non-null   object \n",
      " 8   MultipleLines     7267 non-null   object \n",
      " 9   InternetService   7267 non-null   object \n",
      " 10  OnlineSecurity    7267 non-null   object \n",
      " 11  OnlineBackup      7267 non-null   object \n",
      " 12  DeviceProtection  7267 non-null   object \n",
      " 13  TechSupport       7267 non-null   object \n",
      " 14  StreamingTV       7267 non-null   object \n",
      " 15  StreamingMovies   7267 non-null   object \n",
      " 16  Contract          7267 non-null   object \n",
      " 17  PaperlessBilling  7267 non-null   object \n",
      " 18  PaymentMethod     7267 non-null   object \n",
      " 19  MonthlyCharges    7267 non-null   float64\n",
      " 20  TotalCharges      7267 non-null   object \n",
      "dtypes: float64(1), int64(2), object(18)\n",
      "memory usage: 1.2+ MB\n",
      "\n",
      "Número de filas duplicadas: 0\n",
      "\n",
      "Valores nulos en 'TotalCharges' después de la conversión: 11\n",
      "\n",
      "Filas con 'TotalCharges' nulos:\n",
      "      Tenure  MonthlyCharges  TotalCharges\n",
      "975        0           56.05           NaN\n",
      "1775       0           20.00           NaN\n",
      "1955       0           61.90           NaN\n",
      "2075       0           19.70           NaN\n",
      "2232       0           20.25           NaN\n",
      "2308       0           25.35           NaN\n",
      "2930       0           73.35           NaN\n",
      "3134       0           25.75           NaN\n",
      "3203       0           52.55           NaN\n",
      "4169       0           80.85           NaN\n",
      "5599       0           19.85           NaN\n"
     ]
    }
   ],
   "source": [
    "# Mostrar las primeras 5 filas para tener una vista previa\n",
    "print(\"Vista previa de los datos:\")\n",
    "print(df.head())\n",
    "\n",
    "# Obtener información general del DataFrame, incluyendo tipos de datos y valores no nulos\n",
    "print(\"\\nInformación general del DataFrame:\")\n",
    "df.info()\n",
    "\n",
    "# Revisar si hay valores duplicados\n",
    "print(f\"\\nNúmero de filas duplicadas: {df.duplicated().sum()}\")\n",
    "\n",
    "# La columna 'TotalCharges' se cargó como 'object'. Es un problema común que debemos corregir.\n",
    "# Vamos a investigar por qué.\n",
    "# Intentaremos convertirla a numérico, y los valores que fallen se marcarán como NaT (Not a Time) o NaN (Not a Number).\n",
    "df['TotalCharges'] = pd.to_numeric(df['TotalCharges'], errors='coerce')\n",
    "\n",
    "# Ahora, contemos cuántos valores nulos hay en 'TotalCharges' después de la conversión.\n",
    "print(f\"\\nValores nulos en 'TotalCharges' después de la conversión: {df['TotalCharges'].isnull().sum()}\")\n",
    "\n",
    "# Veamos las filas donde 'TotalCharges' es nulo para entender la causa.\n",
    "print(\"\\nFilas con 'TotalCharges' nulos:\")\n",
    "print(df[df['TotalCharges'].isnull()][['Tenure', 'MonthlyCharges', 'TotalCharges']])"
   ]
  },
  {
   "cell_type": "markdown",
   "id": "224cce61",
   "metadata": {},
   "source": [
    "**Observación Clave**: El análisis revela que los 11 valores nulos en TotalCharges corresponden a clientes con una antigüedad (Tenure) de 0. Esto es lógico, ya que son clientes nuevos que aún no han acumulado cargos totales."
   ]
  },
  {
   "cell_type": "markdown",
   "id": "ea3bf4b2",
   "metadata": {},
   "source": [
    "## 4. Limpieza y Corrección de Datos\n",
    "Con los problemas identificados, procedemos a limpiar el DataFrame. Corregiremos los valores nulos en TotalCharges y nos aseguraremos de que todos los tipos de datos sean correctos."
   ]
  },
  {
   "cell_type": "code",
   "execution_count": 7,
   "id": "2cff711b",
   "metadata": {},
   "outputs": [
    {
     "name": "stdout",
     "output_type": "stream",
     "text": [
      "Valores nulos restantes en 'TotalCharges': 0\n",
      "\n",
      "Limpieza de datos completada.\n"
     ]
    },
    {
     "name": "stderr",
     "output_type": "stream",
     "text": [
      "C:\\Users\\apicn\\AppData\\Local\\Temp\\ipykernel_39452\\3163623213.py:3: FutureWarning: A value is trying to be set on a copy of a DataFrame or Series through chained assignment using an inplace method.\n",
      "The behavior will change in pandas 3.0. This inplace method will never work because the intermediate object on which we are setting values always behaves as a copy.\n",
      "\n",
      "For example, when doing 'df[col].method(value, inplace=True)', try using 'df.method({col: value}, inplace=True)' or df[col] = df[col].method(value) instead, to perform the operation inplace on the original object.\n",
      "\n",
      "\n",
      "  df['TotalCharges'].fillna(0, inplace=True)\n"
     ]
    }
   ],
   "source": [
    "# Rellenamos los valores nulos en 'TotalCharges' con 0.\n",
    "# Esto es apropiado porque los clientes con 0 meses de antigüedad no han generado cargos totales.\n",
    "df['TotalCharges'].fillna(0, inplace=True)\n",
    "\n",
    "# Verificamos que ya no hay valores nulos en la columna\n",
    "print(f\"Valores nulos restantes en 'TotalCharges': {df['TotalCharges'].isnull().sum()}\")\n",
    "\n",
    "# Ahora la columna 'SeniorCitizen' es numérica (0 o 1) pero representa una categoría.\n",
    "# La convertiremos a un formato más claro ('No'/'Sí') para mejorar la legibilidad en las visualizaciones.\n",
    "df['SeniorCitizen'] = df['SeniorCitizen'].map({0: 'No', 1: 'Yes'})\n",
    "\n",
    "print(\"\\nLimpieza de datos completada.\")"
   ]
  },
  {
   "cell_type": "markdown",
   "id": "1fe44631",
   "metadata": {},
   "source": [
    "## 5. Ingeniería de Características (Feature Engineering)\n",
    "Para enriquecer nuestro análisis, crearemos una nueva columna llamada Cuentas_Diarias. Esta métrica nos dará una perspectiva más granular de los gastos del cliente."
   ]
  },
  {
   "cell_type": "code",
   "execution_count": 8,
   "id": "1cabce3c",
   "metadata": {},
   "outputs": [
    {
     "name": "stdout",
     "output_type": "stream",
     "text": [
      "Columna 'DailyCharges' creada con éxito.\n",
      "   MonthlyCharges  DailyCharges\n",
      "0            65.6      2.186667\n",
      "1            59.9      1.996667\n",
      "2            73.9      2.463333\n",
      "3            98.0      3.266667\n",
      "4            83.9      2.796667\n"
     ]
    }
   ],
   "source": [
    "# Asumimos un mes de 30 días para el cálculo.\n",
    "df['DailyCharges'] = df['MonthlyCharges'] / 30\n",
    "\n",
    "print(\"Columna 'DailyCharges' creada con éxito.\")\n",
    "print(df[['MonthlyCharges', 'DailyCharges']].head())"
   ]
  },
  {
   "cell_type": "markdown",
   "id": "106f3b4e",
   "metadata": {},
   "source": [
    "## 6. Estandarización y Transformación de Datos"
   ]
  },
  {
   "cell_type": "code",
   "execution_count": 9,
   "id": "601213bb",
   "metadata": {},
   "outputs": [
    {
     "name": "stdout",
     "output_type": "stream",
     "text": [
      "Transformación de datos a formato numérico completada.\n",
      "  Churn  Churn_numeric\n",
      "0    No            0.0\n",
      "1    No            0.0\n",
      "2   Yes            1.0\n",
      "3   Yes            1.0\n",
      "4   Yes            1.0\n"
     ]
    }
   ],
   "source": [
    "# Convertimos la variable objetivo 'Churn' a formato numérico (0/1)\n",
    "df['Churn_numeric'] = df['Churn'].map({'No': 0, 'Yes': 1})\n",
    "\n",
    "# También crearemos una copia del DataFrame para transformar más columnas\n",
    "# sin afectar el original, que usaremos para visualizaciones.\n",
    "df_transformed = df.copy()\n",
    "\n",
    "# Columnas binarias a transformar\n",
    "binary_cols = ['Partner', 'Dependents', 'PhoneService', 'PaperlessBilling']\n",
    "\n",
    "for col in binary_cols:\n",
    "    df_transformed[col] = df_transformed[col].map({'No': 0, 'Yes': 1})\n",
    "\n",
    "print(\"Transformación de datos a formato numérico completada.\")\n",
    "print(df_transformed[['Churn', 'Churn_numeric']].head())"
   ]
  },
  {
   "cell_type": "markdown",
   "id": "d1bbddee",
   "metadata": {},
   "source": [
    "## 7. Análisis Descriptivo\n",
    "Calculamos estadísticas descriptivas para las variables numéricas. Esto nos ayuda a entender la distribución, la tendencia central y la dispersión de los datos."
   ]
  },
  {
   "cell_type": "code",
   "execution_count": 10,
   "id": "b6f10b3f",
   "metadata": {},
   "outputs": [
    {
     "name": "stdout",
     "output_type": "stream",
     "text": [
      "Análisis descriptivo de las variables numéricas:\n",
      "            Tenure  MonthlyCharges  TotalCharges  DailyCharges\n",
      "count  7267.000000     7267.000000   7267.000000   7267.000000\n",
      "mean     32.346498       64.720098   2277.182035      2.157337\n",
      "std      24.571773       30.129572   2268.648587      1.004319\n",
      "min       0.000000       18.250000      0.000000      0.608333\n",
      "25%       9.000000       35.425000    396.200000      1.180833\n",
      "50%      29.000000       70.300000   1389.200000      2.343333\n",
      "75%      55.000000       89.875000   3778.525000      2.995833\n",
      "max      72.000000      118.750000   8684.800000      3.958333\n"
     ]
    }
   ],
   "source": [
    "# Estadísticas para las principales columnas numéricas\n",
    "print(\"Análisis descriptivo de las variables numéricas:\")\n",
    "print(df[['Tenure', 'MonthlyCharges', 'TotalCharges', 'DailyCharges']].describe())"
   ]
  },
  {
   "cell_type": "markdown",
   "id": "d1219a3e",
   "metadata": {},
   "source": [
    "## 8. Análisis Exploratorio de Datos (EDA) y Visualizaciones\n",
    "Esta es la fase más visual del proyecto. Generaremos gráficos para explorar la relación entre las diferentes variables y la tasa de cancelación (Churn).\n",
    "\n",
    "#### 8.1. Distribución del Churn\n",
    "Visualizamos la proporción de clientes que han cancelado el servicio frente a los que no."
   ]
  },
  {
   "cell_type": "code",
   "execution_count": 14,
   "id": "65e2bfca",
   "metadata": {},
   "outputs": [
    {
     "name": "stderr",
     "output_type": "stream",
     "text": [
      "C:\\Users\\apicn\\AppData\\Local\\Temp\\ipykernel_39452\\1412259754.py:3: FutureWarning: \n",
      "\n",
      "Passing `palette` without assigning `hue` is deprecated and will be removed in v0.14.0. Assign the `x` variable to `hue` and set `legend=False` for the same effect.\n",
      "\n",
      "  ax = sns.countplot(data=df, x='Churn', order=['No', 'Yes'], palette=colors, edgecolor='black')\n"
     ]
    },
    {
     "data": {
      "image/png": "[encoded data removed]",
      "text/plain": [
       "<Figure size 800x600 with 1 Axes>"
      ]
     },
     "metadata": {},
     "output_type": "display_data"
    }
   ],
   "source": [
    "plt.figure(figsize=(8, 6))\n",
    "colors = ['#66b3ff', '#ff9999']\n",
    "ax = sns.countplot(data=df, x='Churn', order=['No', 'Yes'], palette=colors, edgecolor='black')\n",
    "plt.title('Distribución de Churn de Clientes', fontsize=16)\n",
    "plt.xlabel('Churn')\n",
    "plt.ylabel('Cantidad de Clientes')\n",
    "for p in ax.patches:\n",
    "    height = p.get_height()\n",
    "    ax.annotate(f'{height}', (p.get_x() + p.get_width() / 2., height), ha='center', va='bottom', fontsize=12, color='black')\n",
    "sns.despine()\n",
    "plt.tight_layout()\n",
    "plt.savefig('churn_distribution_bar.png')\n",
    "plt.show()"
   ]
  }
 ],
 "metadata": {
  "kernelspec": {
   "display_name": "Python 3",
   "language": "python",
   "name": "python3"
  },
  "language_info": {
   "codemirror_mode": {
    "name": "ipython",
    "version": 3
   },
   "file_extension": ".py",
   "mimetype": "text/x-python",
   "name": "python",
   "nbconvert_exporter": "python",
   "pygments_lexer": "ipython3",
   "version": "3.12.4"
  }
 },
 "nbformat": 4,
 "nbformat_minor": 5
}
