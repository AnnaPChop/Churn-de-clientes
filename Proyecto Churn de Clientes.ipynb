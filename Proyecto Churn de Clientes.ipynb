{
 "cells": [
  {
   "cell_type": "markdown",
   "id": "f8e1c9cd",
   "metadata": {},
   "source": [
    "# **Análisis de Churn de Clientes**\n",
    "\n",
    "Este proyecto aborda el desafío de identificar los factores que influyen en la cancelación de servicios por parte de los clientes. Utiliza datos reales extraídos desde una API en formato JSON, aplicando técnicas de ETL para su transformación y análisis. A través de visualizaciones estratégicas y un análisis exploratorio profundo, se generan insights clave para mejorar la retención de clientes."
   ]
  },
  {
   "cell_type": "markdown",
   "id": "df306c09",
   "metadata": {},
   "source": [
    "## 1. Configuración del Entorno\n",
    "Primero, importamos las librerías necesarias para el análisis y la visualización de datos."
   ]
  },
  {
   "cell_type": "code",
   "execution_count": 1,
   "id": "66c35ba6",
   "metadata": {},
   "outputs": [],
   "source": [
    "import pandas as pd\n",
    "import numpy as np\n",
    "import matplotlib.pyplot as plt\n",
    "import seaborn as sns\n",
    "import json"
   ]
  },
  {
   "cell_type": "markdown",
   "id": "ecc3beab",
   "metadata": {},
   "source": []
  }
 ],
 "metadata": {
  "kernelspec": {
   "display_name": "Python 3",
   "language": "python",
   "name": "python3"
  },
  "language_info": {
   "codemirror_mode": {
    "name": "ipython",
    "version": 3
   },
   "file_extension": ".py",
   "mimetype": "text/x-python",
   "name": "python",
   "nbconvert_exporter": "python",
   "pygments_lexer": "ipython3",
   "version": "3.12.4"
  }
 },
 "nbformat": 4,
 "nbformat_minor": 5
}
