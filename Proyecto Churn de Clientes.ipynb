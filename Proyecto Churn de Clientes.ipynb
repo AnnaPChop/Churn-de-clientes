{
 "cells": [
  {
   "cell_type": "markdown",
   "id": "f8e1c9cd",
   "metadata": {},
   "source": [
    "# **Análisis de Churn de Clientes**\n",
    "\n",
    "Este proyecto aborda el desafío de identificar los factores que influyen en la cancelación de servicios por parte de los clientes. Utiliza datos reales extraídos desde una API en formato JSON, aplicando técnicas de ETL para su transformación y análisis. A través de visualizaciones estratégicas y un análisis exploratorio profundo, se generan insights clave para mejorar la retención de clientes."
   ]
  },
  {
   "cell_type": "markdown",
   "id": "df306c09",
   "metadata": {},
   "source": [
    "## 1. Configuración del Entorno\n",
    "Primero, importamos las librerías necesarias para el análisis y la visualización de datos."
   ]
  },
  {
   "cell_type": "code",
   "execution_count": 1,
   "id": "66c35ba6",
   "metadata": {},
   "outputs": [],
   "source": [
    "import pandas as pd\n",
    "import numpy as np\n",
    "import matplotlib.pyplot as plt\n",
    "import seaborn as sns\n",
    "import json"
   ]
  },
  {
   "cell_type": "markdown",
   "id": "ecc3beab",
   "metadata": {},
   "source": [
    "## 2. Carga y Transformación Inicial de Datos\n",
    "En este paso, cargamos los datos desde el archivo JSON y los transformamos en un DataFrame de Pandas. La estructura del JSON es anidada, por lo que utilizaremos pd.json_normalize para aplanarla y facilitar su manipulación."
   ]
  },
  {
   "cell_type": "code",
   "execution_count": 5,
   "id": "26551bd1",
   "metadata": {},
   "outputs": [
    {
     "name": "stdout",
     "output_type": "stream",
     "text": [
      "Datos cargados y transformados con éxito.\n"
     ]
    }
   ],
   "source": [
    "# Cargar el archivo JSON\n",
    "file_path = 'data/TelecomX_Data.json'\n",
    "with open(file_path, 'r') as f:\n",
    "    data = json.load(f)\n",
    "\n",
    "# Verificar la estructura del JSON para asegurar el aplanamiento correcto\n",
    "if isinstance(data, dict) and 'customers' in data:\n",
    "    customers = data['customers']\n",
    "else:\n",
    "    customers = data\n",
    "\n",
    "# Aplanar todos los campos anidados en un solo DataFrame\n",
    "df = pd.json_normalize(customers, sep='.')\n",
    "\n",
    "# Renombrar columnas para mayor claridad\n",
    "df = df.rename(columns={\n",
    "    'customerID': 'customerID',\n",
    "    'Churn': 'Churn',\n",
    "    'customer.gender': 'Gender',\n",
    "    'customer.SeniorCitizen': 'SeniorCitizen',\n",
    "    'customer.Partner': 'Partner',\n",
    "    'customer.Dependents': 'Dependents',\n",
    "    'customer.tenure': 'Tenure',\n",
    "    'phone.PhoneService': 'PhoneService',\n",
    "    'phone.MultipleLines': 'MultipleLines',\n",
    "    'internet.InternetService': 'InternetService',\n",
    "    'internet.OnlineSecurity': 'OnlineSecurity',\n",
    "    'internet.OnlineBackup': 'OnlineBackup',\n",
    "    'internet.DeviceProtection': 'DeviceProtection',\n",
    "    'internet.TechSupport': 'TechSupport',\n",
    "    'internet.StreamingTV': 'StreamingTV',\n",
    "    'internet.StreamingMovies': 'StreamingMovies',\n",
    "    'account.Contract': 'Contract',\n",
    "    'account.PaperlessBilling': 'PaperlessBilling',\n",
    "    'account.PaymentMethod': 'PaymentMethod',\n",
    "    'account.Charges.Monthly': 'MonthlyCharges',\n",
    "    'account.Charges.Total': 'TotalCharges'\n",
    "})\n",
    "\n",
    "print(\"Datos cargados y transformados con éxito.\")"
   ]
  },
  {
   "cell_type": "markdown",
   "id": "bcfd84de",
   "metadata": {},
   "source": []
  }
 ],
 "metadata": {
  "kernelspec": {
   "display_name": "Python 3",
   "language": "python",
   "name": "python3"
  },
  "language_info": {
   "codemirror_mode": {
    "name": "ipython",
    "version": 3
   },
   "file_extension": ".py",
   "mimetype": "text/x-python",
   "name": "python",
   "nbconvert_exporter": "python",
   "pygments_lexer": "ipython3",
   "version": "3.12.4"
  }
 },
 "nbformat": 4,
 "nbformat_minor": 5
}
